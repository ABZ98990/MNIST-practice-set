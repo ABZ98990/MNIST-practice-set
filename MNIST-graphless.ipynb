{
  "nbformat": 4,
  "nbformat_minor": 0,
  "metadata": {
    "colab": {
      "name": "Untitled0.ipynb",
      "provenance": [],
      "collapsed_sections": [],
      "authorship_tag": "ABX9TyO4cBRT/55NW1n9Dao89B3m",
      "include_colab_link": true
    },
    "kernelspec": {
      "name": "python3",
      "display_name": "Python 3"
    },
    "language_info": {
      "name": "python"
    }
  },
  "cells": [
    {
      "cell_type": "markdown",
      "metadata": {
        "id": "view-in-github",
        "colab_type": "text"
      },
      "source": [
        "<a href=\"https://colab.research.google.com/github/Adam-Frankenstein/MNIST-practice-set/blob/main/MNIST-graphless.ipynb\" target=\"_parent\"><img src=\"https://colab.research.google.com/assets/colab-badge.svg\" alt=\"Open In Colab\"/></a>"
      ]
    },
    {
      "cell_type": "code",
      "metadata": {
        "id": "AGxGUv0bA3Ip"
      },
      "source": [
        "from tensorflow.keras.datasets import mnist\n",
        "(train_images, train_lables) , (test_images, test_lables) = mnist.load_data()"
      ],
      "execution_count": 38,
      "outputs": []
    },
    {
      "cell_type": "code",
      "metadata": {
        "colab": {
          "base_uri": "https://localhost:8080/"
        },
        "id": "uGDVlgQhG1GJ",
        "outputId": "bdc12c78-6c97-4e3b-829f-7d618d608876"
      },
      "source": [
        "train_images.shape"
      ],
      "execution_count": 39,
      "outputs": [
        {
          "output_type": "execute_result",
          "data": {
            "text/plain": [
              "(60000, 28, 28)"
            ]
          },
          "metadata": {},
          "execution_count": 39
        }
      ]
    },
    {
      "cell_type": "code",
      "metadata": {
        "colab": {
          "base_uri": "https://localhost:8080/"
        },
        "id": "JyN3kphaHcb2",
        "outputId": "63c9724b-4017-4599-d32e-8109a4765f2f"
      },
      "source": [
        "test_images.shape"
      ],
      "execution_count": 40,
      "outputs": [
        {
          "output_type": "execute_result",
          "data": {
            "text/plain": [
              "(10000, 28, 28)"
            ]
          },
          "metadata": {},
          "execution_count": 40
        }
      ]
    },
    {
      "cell_type": "code",
      "metadata": {
        "id": "05udvOw7B-bU"
      },
      "source": [
        "from tensorflow.keras import models\n",
        "from tensorflow.keras import layers\n",
        "neural_network = models.Sequential()\n",
        "neural_network.add(layers.Dense(512, activation = 'relu', input_shape = (28 * 28,)))\n",
        "neural_network.add(layers.Dense(10, activation = 'softmax'))"
      ],
      "execution_count": 41,
      "outputs": []
    },
    {
      "cell_type": "code",
      "metadata": {
        "id": "Ks5f6nH_Dm7a"
      },
      "source": [
        "neural_network.compile(optimizer = 'rmsprop' , loss = 'categorical_crossentropy' , metrics = ['accuracy'])"
      ],
      "execution_count": 42,
      "outputs": []
    },
    {
      "cell_type": "code",
      "metadata": {
        "id": "RMoE9rhBEPu1"
      },
      "source": [
        "train_images = train_images.reshape(60000, 28 * 28)\n",
        "train_images = train_images.astype('float32')/255\n",
        "test_images = test_images.reshape(10000, 28 * 28)\n",
        "test_images = test_images.astype('float32')/255"
      ],
      "execution_count": 43,
      "outputs": []
    },
    {
      "cell_type": "code",
      "metadata": {
        "id": "ZoUOnueHEme1"
      },
      "source": [
        "from tensorflow.keras.utils import to_categorical\n",
        "train_lables = to_categorical(train_lables)\n",
        "test_lables = to_categorical(test_lables)"
      ],
      "execution_count": 44,
      "outputs": []
    },
    {
      "cell_type": "code",
      "metadata": {
        "colab": {
          "base_uri": "https://localhost:8080/"
        },
        "id": "l8YGtSg5GwZ3",
        "outputId": "aad5b4a2-1c9b-45cd-8da1-b5eee1838eb6"
      },
      "source": [
        "neural_network.fit(train_images, train_lables, epochs=10, batch_size=64)"
      ],
      "execution_count": 55,
      "outputs": [
        {
          "output_type": "stream",
          "name": "stdout",
          "text": [
            "Epoch 1/10\n",
            "938/938 [==============================] - 7s 8ms/step - loss: 0.0041 - accuracy: 0.9988\n",
            "Epoch 2/10\n",
            "938/938 [==============================] - 7s 8ms/step - loss: 0.0028 - accuracy: 0.9994\n",
            "Epoch 3/10\n",
            "938/938 [==============================] - 7s 8ms/step - loss: 0.0032 - accuracy: 0.9990\n",
            "Epoch 4/10\n",
            "938/938 [==============================] - 7s 8ms/step - loss: 0.0022 - accuracy: 0.9993\n",
            "Epoch 5/10\n",
            "938/938 [==============================] - 7s 8ms/step - loss: 0.0022 - accuracy: 0.9994\n",
            "Epoch 6/10\n",
            "938/938 [==============================] - 7s 7ms/step - loss: 0.0015 - accuracy: 0.9995\n",
            "Epoch 7/10\n",
            "938/938 [==============================] - 7s 8ms/step - loss: 0.0012 - accuracy: 0.9996\n",
            "Epoch 8/10\n",
            "938/938 [==============================] - 7s 7ms/step - loss: 0.0010 - accuracy: 0.9997\n",
            "Epoch 9/10\n",
            "938/938 [==============================] - 7s 7ms/step - loss: 0.0011 - accuracy: 0.9997\n",
            "Epoch 10/10\n",
            "938/938 [==============================] - 7s 7ms/step - loss: 8.8600e-04 - accuracy: 0.9998\n"
          ]
        },
        {
          "output_type": "execute_result",
          "data": {
            "text/plain": [
              "<keras.callbacks.History at 0x7fd19b6ed950>"
            ]
          },
          "metadata": {},
          "execution_count": 55
        }
      ]
    },
    {
      "cell_type": "code",
      "metadata": {
        "colab": {
          "base_uri": "https://localhost:8080/"
        },
        "id": "WQG_r6MfHQJ8",
        "outputId": "ca83ac42-8e91-496c-bd8e-710082e55225"
      },
      "source": [
        "test_loss, test_acc = neural_network.evaluate(test_images, test_lables)"
      ],
      "execution_count": 50,
      "outputs": [
        {
          "output_type": "stream",
          "name": "stdout",
          "text": [
            "313/313 [==============================] - 1s 2ms/step - loss: 0.0917 - accuracy: 0.9822\n"
          ]
        }
      ]
    },
    {
      "cell_type": "code",
      "metadata": {
        "colab": {
          "base_uri": "https://localhost:8080/",
          "height": 283
        },
        "id": "GiNjeLUqJQrv",
        "outputId": "44432b5c-d847-448e-8b0a-cd5cd478de84"
      },
      "source": [
        "import matplotlib.pyplot as plt\n",
        "plt.scatter(test_loss, test_acc)"
      ],
      "execution_count": 56,
      "outputs": [
        {
          "output_type": "execute_result",
          "data": {
            "text/plain": [
              "<matplotlib.collections.PathCollection at 0x7fd19b6bbdd0>"
            ]
          },
          "metadata": {},
          "execution_count": 56
        },
        {
          "output_type": "display_data",
          "data": {
            "image/png": "[encoded data removed]",
            "text/plain": [
              "<Figure size 432x288 with 1 Axes>"
            ]
          },
          "metadata": {
            "needs_background": "light"
          }
        }
      ]
    },
    {
      "cell_type": "code",
      "metadata": {
        "id": "xUiqlBTbJ9Oc"
      },
      "source": [
        ""
      ],
      "execution_count": null,
      "outputs": []
    }
  ]
}